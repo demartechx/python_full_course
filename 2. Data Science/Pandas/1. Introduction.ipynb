{
 "cells": [
  {
   "cell_type": "code",
   "execution_count": 8,
   "metadata": {},
   "outputs": [
    {
     "data": {
      "text/html": [
       "<div>\n",
       "<style scoped>\n",
       "    .dataframe tbody tr th:only-of-type {\n",
       "        vertical-align: middle;\n",
       "    }\n",
       "\n",
       "    .dataframe tbody tr th {\n",
       "        vertical-align: top;\n",
       "    }\n",
       "\n",
       "    .dataframe thead th {\n",
       "        text-align: right;\n",
       "    }\n",
       "</style>\n",
       "<table border=\"1\" class=\"dataframe\">\n",
       "  <thead>\n",
       "    <tr style=\"text-align: right;\">\n",
       "      <th></th>\n",
       "      <th>DATE</th>\n",
       "      <th>LATITUDE</th>\n",
       "      <th>LONGITUDE</th>\n",
       "      <th>SNOW</th>\n",
       "      <th>PRCP</th>\n",
       "      <th>SNWD</th>\n",
       "      <th>TAVG</th>\n",
       "      <th>TMAX</th>\n",
       "      <th>TMIN</th>\n",
       "    </tr>\n",
       "  </thead>\n",
       "  <tbody>\n",
       "    <tr>\n",
       "      <th>0</th>\n",
       "      <td>20160101</td>\n",
       "      <td>41.06390</td>\n",
       "      <td>-73.77220</td>\n",
       "      <td>0.0</td>\n",
       "      <td>0.00</td>\n",
       "      <td>-9999.0</td>\n",
       "      <td>-9999</td>\n",
       "      <td>-9999</td>\n",
       "      <td>-9999</td>\n",
       "    </tr>\n",
       "    <tr>\n",
       "      <th>1</th>\n",
       "      <td>20160102</td>\n",
       "      <td>41.06390</td>\n",
       "      <td>-73.77220</td>\n",
       "      <td>0.0</td>\n",
       "      <td>0.00</td>\n",
       "      <td>-9999.0</td>\n",
       "      <td>-9999</td>\n",
       "      <td>-9999</td>\n",
       "      <td>-9999</td>\n",
       "    </tr>\n",
       "    <tr>\n",
       "      <th>2</th>\n",
       "      <td>20160103</td>\n",
       "      <td>41.06390</td>\n",
       "      <td>-73.77220</td>\n",
       "      <td>0.0</td>\n",
       "      <td>0.00</td>\n",
       "      <td>-9999.0</td>\n",
       "      <td>-9999</td>\n",
       "      <td>-9999</td>\n",
       "      <td>-9999</td>\n",
       "    </tr>\n",
       "    <tr>\n",
       "      <th>3</th>\n",
       "      <td>20160104</td>\n",
       "      <td>41.06390</td>\n",
       "      <td>-73.77220</td>\n",
       "      <td>0.0</td>\n",
       "      <td>0.00</td>\n",
       "      <td>-9999.0</td>\n",
       "      <td>-9999</td>\n",
       "      <td>-9999</td>\n",
       "      <td>-9999</td>\n",
       "    </tr>\n",
       "    <tr>\n",
       "      <th>4</th>\n",
       "      <td>20160105</td>\n",
       "      <td>41.06390</td>\n",
       "      <td>-73.77220</td>\n",
       "      <td>0.0</td>\n",
       "      <td>0.00</td>\n",
       "      <td>-9999.0</td>\n",
       "      <td>-9999</td>\n",
       "      <td>-9999</td>\n",
       "      <td>-9999</td>\n",
       "    </tr>\n",
       "    <tr>\n",
       "      <th>...</th>\n",
       "      <td>...</td>\n",
       "      <td>...</td>\n",
       "      <td>...</td>\n",
       "      <td>...</td>\n",
       "      <td>...</td>\n",
       "      <td>...</td>\n",
       "      <td>...</td>\n",
       "      <td>...</td>\n",
       "      <td>...</td>\n",
       "    </tr>\n",
       "    <tr>\n",
       "      <th>32202</th>\n",
       "      <td>20170709</td>\n",
       "      <td>40.73417</td>\n",
       "      <td>-73.41694</td>\n",
       "      <td>-9999.0</td>\n",
       "      <td>0.00</td>\n",
       "      <td>-9999.0</td>\n",
       "      <td>-9999</td>\n",
       "      <td>82</td>\n",
       "      <td>67</td>\n",
       "    </tr>\n",
       "    <tr>\n",
       "      <th>32203</th>\n",
       "      <td>20170710</td>\n",
       "      <td>40.73417</td>\n",
       "      <td>-73.41694</td>\n",
       "      <td>-9999.0</td>\n",
       "      <td>0.00</td>\n",
       "      <td>-9999.0</td>\n",
       "      <td>-9999</td>\n",
       "      <td>81</td>\n",
       "      <td>64</td>\n",
       "    </tr>\n",
       "    <tr>\n",
       "      <th>32204</th>\n",
       "      <td>20170711</td>\n",
       "      <td>40.73417</td>\n",
       "      <td>-73.41694</td>\n",
       "      <td>-9999.0</td>\n",
       "      <td>0.06</td>\n",
       "      <td>-9999.0</td>\n",
       "      <td>-9999</td>\n",
       "      <td>86</td>\n",
       "      <td>74</td>\n",
       "    </tr>\n",
       "    <tr>\n",
       "      <th>32205</th>\n",
       "      <td>20170712</td>\n",
       "      <td>40.73417</td>\n",
       "      <td>-73.41694</td>\n",
       "      <td>-9999.0</td>\n",
       "      <td>0.00</td>\n",
       "      <td>-9999.0</td>\n",
       "      <td>-9999</td>\n",
       "      <td>90</td>\n",
       "      <td>74</td>\n",
       "    </tr>\n",
       "    <tr>\n",
       "      <th>32206</th>\n",
       "      <td>20170713</td>\n",
       "      <td>40.73417</td>\n",
       "      <td>-73.41694</td>\n",
       "      <td>-9999.0</td>\n",
       "      <td>0.01</td>\n",
       "      <td>-9999.0</td>\n",
       "      <td>-9999</td>\n",
       "      <td>91</td>\n",
       "      <td>68</td>\n",
       "    </tr>\n",
       "  </tbody>\n",
       "</table>\n",
       "<p>32207 rows × 9 columns</p>\n",
       "</div>"
      ],
      "text/plain": [
       "           DATE  LATITUDE  LONGITUDE    SNOW  PRCP    SNWD  TAVG  TMAX  TMIN\n",
       "0      20160101  41.06390  -73.77220     0.0  0.00 -9999.0 -9999 -9999 -9999\n",
       "1      20160102  41.06390  -73.77220     0.0  0.00 -9999.0 -9999 -9999 -9999\n",
       "2      20160103  41.06390  -73.77220     0.0  0.00 -9999.0 -9999 -9999 -9999\n",
       "3      20160104  41.06390  -73.77220     0.0  0.00 -9999.0 -9999 -9999 -9999\n",
       "4      20160105  41.06390  -73.77220     0.0  0.00 -9999.0 -9999 -9999 -9999\n",
       "...         ...       ...        ...     ...   ...     ...   ...   ...   ...\n",
       "32202  20170709  40.73417  -73.41694 -9999.0  0.00 -9999.0 -9999    82    67\n",
       "32203  20170710  40.73417  -73.41694 -9999.0  0.00 -9999.0 -9999    81    64\n",
       "32204  20170711  40.73417  -73.41694 -9999.0  0.06 -9999.0 -9999    86    74\n",
       "32205  20170712  40.73417  -73.41694 -9999.0  0.00 -9999.0 -9999    90    74\n",
       "32206  20170713  40.73417  -73.41694 -9999.0  0.01 -9999.0 -9999    91    68\n",
       "\n",
       "[32207 rows x 9 columns]"
      ]
     },
     "execution_count": 8,
     "metadata": {},
     "output_type": "execute_result"
    }
   ],
   "source": [
    "import pandas as pd\n",
    "df = pd.read_csv('Datas/nyc_Jan_Jun_2016_weat.csv')\n",
    "df"
   ]
  },
  {
   "cell_type": "code",
   "execution_count": 6,
   "metadata": {},
   "outputs": [
    {
     "data": {
      "text/plain": [
       "68.0"
      ]
     },
     "execution_count": 6,
     "metadata": {},
     "output_type": "execute_result"
    }
   ],
   "source": [
    "df['SNOW'].max() #get the maximum value in a column"
   ]
  },
  {
   "cell_type": "code",
   "execution_count": 11,
   "metadata": {},
   "outputs": [
    {
     "data": {
      "text/plain": [
       "14813    20170313\n",
       "Name: DATE, dtype: int64"
      ]
     },
     "execution_count": 11,
     "metadata": {},
     "output_type": "execute_result"
    }
   ],
   "source": [
    "df['DATE'][df['SNOW'] == 68] #list the date where snow value is 68"
   ]
  },
  {
   "cell_type": "code",
   "execution_count": 13,
   "metadata": {},
   "outputs": [
    {
     "data": {
      "text/plain": [
       "40.75836441954055"
      ]
     },
     "execution_count": 13,
     "metadata": {},
     "output_type": "execute_result"
    }
   ],
   "source": [
    "df.fillna(0, inplace=True) #fill empty spaces\n",
    "df['LATITUDE'].mean() #average latitude"
   ]
  },
  {
   "cell_type": "code",
   "execution_count": null,
   "metadata": {},
   "outputs": [],
   "source": [
    "df.fillna"
   ]
  }
 ],
 "metadata": {
  "kernelspec": {
   "display_name": "Python 3",
   "language": "python",
   "name": "python3"
  },
  "language_info": {
   "codemirror_mode": {
    "name": "ipython",
    "version": 3
   },
   "file_extension": ".py",
   "mimetype": "text/x-python",
   "name": "python",
   "nbconvert_exporter": "python",
   "pygments_lexer": "ipython3",
   "version": "3.8.3"
  }
 },
 "nbformat": 4,
 "nbformat_minor": 4
}

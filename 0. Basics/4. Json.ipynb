{
 "cells": [
  {
   "cell_type": "markdown",
   "metadata": {},
   "source": [
    "# Json"
   ]
  },
  {
   "cell_type": "code",
   "execution_count": 1,
   "metadata": {},
   "outputs": [
    {
     "name": "stdout",
     "output_type": "stream",
     "text": [
      "{\"tom\": {\"name\": \"tom\", \"address\": \"1 red street, NY\", \"phone\": 98989898}, \"bob\": {\"name\": \"bob\", \"address\": \"1 green street, NY\", \"phone\": 234234234}}\n"
     ]
    }
   ],
   "source": [
    "book = {}\n",
    "book['tom'] = {\n",
    "    'name': 'tom',\n",
    "    'address': '1 red street, NY',\n",
    "    'phone': 98989898\n",
    "}\n",
    "\n",
    "book['bob'] = {\n",
    "    'name': 'bob',\n",
    "    'address': '1 green street, NY',\n",
    "    'phone': 234234234\n",
    "}\n",
    "\n",
    "import json\n",
    "s = json.dumps(book) #convert values to string\n",
    "\n",
    "print(s)"
   ]
  },
  {
   "cell_type": "code",
   "execution_count": 2,
   "metadata": {},
   "outputs": [],
   "source": [
    "with open(\"book.txt\", \"w\") as f: #create file. w for write\n",
    "    f.write(s) #write in created file"
   ]
  },
  {
   "cell_type": "code",
   "execution_count": 3,
   "metadata": {},
   "outputs": [
    {
     "data": {
      "text/plain": [
       "'{\"tom\": {\"name\": \"tom\", \"address\": \"1 red street, NY\", \"phone\": 98989898}, \"bob\": {\"name\": \"bob\", \"address\": \"1 green street, NY\", \"phone\": 234234234}}'"
      ]
     },
     "execution_count": 3,
     "metadata": {},
     "output_type": "execute_result"
    }
   ],
   "source": [
    "f = open(\"book.txt\", \"r\") #r for read\n",
    "s = f.read()\n",
    "s"
   ]
  },
  {
   "cell_type": "code",
   "execution_count": 4,
   "metadata": {},
   "outputs": [
    {
     "data": {
      "text/plain": [
       "{'tom': {'name': 'tom', 'address': '1 red street, NY', 'phone': 98989898},\n",
       " 'bob': {'name': 'bob', 'address': '1 green street, NY', 'phone': 234234234}}"
      ]
     },
     "execution_count": 4,
     "metadata": {},
     "output_type": "execute_result"
    }
   ],
   "source": [
    "book = json.loads(s) #convert to dictionary\n",
    "book"
   ]
  },
  {
   "cell_type": "code",
   "execution_count": 6,
   "metadata": {},
   "outputs": [
    {
     "data": {
      "text/plain": [
       "dict"
      ]
     },
     "execution_count": 6,
     "metadata": {},
     "output_type": "execute_result"
    }
   ],
   "source": [
    "type(book)"
   ]
  },
  {
   "cell_type": "code",
   "execution_count": 7,
   "metadata": {},
   "outputs": [
    {
     "data": {
      "text/plain": [
       "{'name': 'bob', 'address': '1 green street, NY', 'phone': 234234234}"
      ]
     },
     "execution_count": 7,
     "metadata": {},
     "output_type": "execute_result"
    }
   ],
   "source": [
    "book['bob']"
   ]
  },
  {
   "cell_type": "code",
   "execution_count": 8,
   "metadata": {},
   "outputs": [
    {
     "data": {
      "text/plain": [
       "234234234"
      ]
     },
     "execution_count": 8,
     "metadata": {},
     "output_type": "execute_result"
    }
   ],
   "source": [
    "book['bob']['phone']"
   ]
  },
  {
   "cell_type": "code",
   "execution_count": 9,
   "metadata": {},
   "outputs": [
    {
     "name": "stdout",
     "output_type": "stream",
     "text": [
      "{'name': 'tom', 'address': '1 red street, NY', 'phone': 98989898}\n",
      "{'name': 'bob', 'address': '1 green street, NY', 'phone': 234234234}\n"
     ]
    }
   ],
   "source": [
    "for person in book:\n",
    "    print(book[person])"
   ]
  },
  {
   "cell_type": "code",
   "execution_count": 11,
   "metadata": {},
   "outputs": [
    {
     "name": "stdout",
     "output_type": "stream",
     "text": [
      "98989898\n",
      "234234234\n"
     ]
    }
   ],
   "source": [
    "for person in book:\n",
    "    print(book[person]['phone'])"
   ]
  },
  {
   "cell_type": "code",
   "execution_count": null,
   "metadata": {},
   "outputs": [],
   "source": []
  }
 ],
 "metadata": {
  "kernelspec": {
   "display_name": "Python 3",
   "language": "python",
   "name": "python3"
  },
  "language_info": {
   "codemirror_mode": {
    "name": "ipython",
    "version": 3
   },
   "file_extension": ".py",
   "mimetype": "text/x-python",
   "name": "python",
   "nbconvert_exporter": "python",
   "pygments_lexer": "ipython3",
   "version": "3.8.3"
  }
 },
 "nbformat": 4,
 "nbformat_minor": 4
}

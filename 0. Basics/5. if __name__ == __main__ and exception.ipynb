{
 "cells": [
  {
   "cell_type": "markdown",
   "metadata": {},
   "source": [
    "# if __name__ == __main__"
   ]
  },
  {
   "cell_type": "code",
   "execution_count": 3,
   "metadata": {},
   "outputs": [
    {
     "name": "stdout",
     "output_type": "stream",
     "text": [
      "__name__:  __main__\n",
      "Area:  100.0\n"
     ]
    }
   ],
   "source": [
    "def calculate_area(base, height):\n",
    "    print(\"__name__: \",__name__)\n",
    "    return 1/2*(base*height)\n",
    "\n",
    "if __name__ == \"__main__\":\n",
    "    a = calculate_area(10, 20)\n",
    "    print(\"Area: \",a)"
   ]
  },
  {
   "cell_type": "markdown",
   "metadata": {},
   "source": [
    "# Exception"
   ]
  },
  {
   "cell_type": "code",
   "execution_count": 9,
   "metadata": {},
   "outputs": [
    {
     "name": "stdout",
     "output_type": "stream",
     "text": [
      "Enter number1: 2\n",
      "Enter number2: 1\n",
      "Division is:  2.0\n"
     ]
    }
   ],
   "source": [
    "x = input(\"Enter number1: \")\n",
    "y = input(\"Enter number2: \")\n",
    "try:\n",
    "    z = int(x) / int(y)\n",
    "except Exception as e:\n",
    "    print('exxception occured: ',e)\n",
    "    z = None\n",
    "print(\"Division is: \", z)"
   ]
  },
  {
   "cell_type": "code",
   "execution_count": null,
   "metadata": {},
   "outputs": [],
   "source": [
    "x = input(\"Enter number1: \")\n",
    "y = input(\"Enter number2: \")\n",
    "try:\n",
    "    z = x / int(y)\n",
    "except ZeroDivisionError as e:\n",
    "    print('Division by zero exception')\n",
    "    z = None\n",
    "except TypeError as e:\n",
    "    print('Type error exception')\n",
    "    z = None\n",
    "print(\"Division is: \", z)"
   ]
  },
  {
   "cell_type": "code",
   "execution_count": null,
   "metadata": {},
   "outputs": [],
   "source": []
  }
 ],
 "metadata": {
  "kernelspec": {
   "display_name": "Python 3",
   "language": "python",
   "name": "python3"
  },
  "language_info": {
   "codemirror_mode": {
    "name": "ipython",
    "version": 3
   },
   "file_extension": ".py",
   "mimetype": "text/x-python",
   "name": "python",
   "nbconvert_exporter": "python",
   "pygments_lexer": "ipython3",
   "version": "3.8.3"
  }
 },
 "nbformat": 4,
 "nbformat_minor": 4
}

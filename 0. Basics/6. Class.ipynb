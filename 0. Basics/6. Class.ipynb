{
 "cells": [
  {
   "cell_type": "code",
   "execution_count": 7,
   "metadata": {},
   "outputs": [
    {
     "name": "stdout",
     "output_type": "stream",
     "text": [
      "tom cruise shoots a film\n",
      "tom cruise says how are you?\n"
     ]
    }
   ],
   "source": [
    "class Human:\n",
    "    def __init__(self, name, occupation):\n",
    "        self.name = name\n",
    "        self.occupation = occupation\n",
    "    \n",
    "    def do_work(self):\n",
    "        if self.occupation == \"tennis player\":\n",
    "            print(self.name, \"plays tennis\")\n",
    "        elif self.occupation == \"actor\":\n",
    "            print(self.name,\"shoots a film\")\n",
    "            \n",
    "    def speaks(self):\n",
    "        print(self.name, \"says how are you?\")\n",
    "        \n",
    "tom = Human(\"tom cruise\", \"actor\")\n",
    "tom.do_work()\n",
    "tom.speaks()\n",
    "        "
   ]
  },
  {
   "cell_type": "code",
   "execution_count": 8,
   "metadata": {},
   "outputs": [
    {
     "name": "stdout",
     "output_type": "stream",
     "text": [
      "maria sharapova plays tennis\n",
      "maria sharapova says how are you?\n"
     ]
    }
   ],
   "source": [
    "maria = Human(\"maria sharapova\", \"tennis player\")\n",
    "maria.do_work()\n",
    "maria.speaks()"
   ]
  },
  {
   "cell_type": "code",
   "execution_count": null,
   "metadata": {},
   "outputs": [],
   "source": []
  }
 ],
 "metadata": {
  "kernelspec": {
   "display_name": "Python 3",
   "language": "python",
   "name": "python3"
  },
  "language_info": {
   "codemirror_mode": {
    "name": "ipython",
    "version": 3
   },
   "file_extension": ".py",
   "mimetype": "text/x-python",
   "name": "python",
   "nbconvert_exporter": "python",
   "pygments_lexer": "ipython3",
   "version": "3.8.3"
  }
 },
 "nbformat": 4,
 "nbformat_minor": 4
}

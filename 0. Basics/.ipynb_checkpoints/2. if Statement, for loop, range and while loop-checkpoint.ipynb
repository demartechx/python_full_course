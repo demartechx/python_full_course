{
 "cells": [
  {
   "cell_type": "markdown",
   "metadata": {},
   "source": [
    "# If statement"
   ]
  },
  {
   "cell_type": "code",
   "execution_count": 5,
   "metadata": {},
   "outputs": [
    {
     "name": "stdout",
     "output_type": "stream",
     "text": [
      "Enter a number: 5\n",
      "number is even\n"
     ]
    }
   ],
   "source": [
    "num = input(\"Enter a number: \")\n",
    "num = int(num)\n",
    "\n",
    "if num&2 == 0:\n",
    "    print(\"number is even\")\n",
    "else:\n",
    "    print(\"number is odd\")"
   ]
  },
  {
   "cell_type": "code",
   "execution_count": 9,
   "metadata": {},
   "outputs": [
    {
     "data": {
      "text/plain": [
       "True"
      ]
     },
     "execution_count": 9,
     "metadata": {},
     "output_type": "execute_result"
    }
   ],
   "source": [
    "3>2 and 4>1"
   ]
  },
  {
   "cell_type": "code",
   "execution_count": 10,
   "metadata": {},
   "outputs": [
    {
     "data": {
      "text/plain": [
       "True"
      ]
     },
     "execution_count": 10,
     "metadata": {},
     "output_type": "execute_result"
    }
   ],
   "source": [
    "3>2 and 4>1"
   ]
  },
  {
   "cell_type": "code",
   "execution_count": 12,
   "metadata": {},
   "outputs": [
    {
     "name": "stdout",
     "output_type": "stream",
     "text": [
      "Enter a dish name: pasta\n",
      "italian\n"
     ]
    }
   ],
   "source": [
    "indian=[\"samosa\", \"daal\", \"naan\"]\n",
    "chinese=[\"egg role\", \"pot sticker\", \"fried rice\"]\n",
    "italian=[\"pizza\", \"pasta\", \"risotto\"]\n",
    "\n",
    "dish = input(\"Enter a dish name: \")\n",
    "\n",
    "if dish in indian:\n",
    "    print(\"indian\")\n",
    "elif dish in chinese:\n",
    "    print(\"chinese\")\n",
    "elif dish in italian:\n",
    "    print(\"italian\")\n",
    "else:\n",
    "    print(\"Based on little knowledge I have I don't know which cuisine is\", dish)"
   ]
  },
  {
   "cell_type": "markdown",
   "metadata": {},
   "source": [
    "# For loop"
   ]
  },
  {
   "cell_type": "code",
   "execution_count": 13,
   "metadata": {},
   "outputs": [
    {
     "data": {
      "text/plain": [
       "13020"
      ]
     },
     "execution_count": 13,
     "metadata": {},
     "output_type": "execute_result"
    }
   ],
   "source": [
    "exp = [2340, 2500, 2100, 3100, 2980]\n",
    "total = exp[0] + exp[1] + exp[2] + exp[3] + exp[4]\n",
    "total"
   ]
  },
  {
   "cell_type": "code",
   "execution_count": 23,
   "metadata": {},
   "outputs": [
    {
     "name": "stdout",
     "output_type": "stream",
     "text": [
      "13020\n"
     ]
    }
   ],
   "source": [
    "total = 0\n",
    "for item in exp:\n",
    "    total = total + item\n",
    "print(total)"
   ]
  },
  {
   "cell_type": "code",
   "execution_count": 32,
   "metadata": {},
   "outputs": [
    {
     "name": "stdout",
     "output_type": "stream",
     "text": [
      "13020\n"
     ]
    }
   ],
   "source": [
    "total = 0\n",
    "for item in exp:\n",
    "    total += item\n",
    "print(total)"
   ]
  },
  {
   "cell_type": "code",
   "execution_count": 33,
   "metadata": {},
   "outputs": [
    {
     "name": "stdout",
     "output_type": "stream",
     "text": [
      "key is not found in garage\n",
      "key is not found in living room\n",
      "key is found in chair\n"
     ]
    }
   ],
   "source": [
    "key_location = \"chair\"\n",
    "locations = [\"garage\", \"living room\", \"chair\", \"closet\"]\n",
    "for i in locations:\n",
    "    if i == key_location:\n",
    "        print(\"key is found in\", i)\n",
    "        break #terminates the loop\n",
    "    else:\n",
    "        print(\"key is not found in\", i)"
   ]
  },
  {
   "cell_type": "markdown",
   "metadata": {},
   "source": [
    "# Range"
   ]
  },
  {
   "cell_type": "code",
   "execution_count": 25,
   "metadata": {},
   "outputs": [
    {
     "name": "stdout",
     "output_type": "stream",
     "text": [
      "1\n",
      "2\n",
      "3\n",
      "4\n",
      "5\n",
      "6\n",
      "7\n",
      "8\n",
      "9\n",
      "10\n"
     ]
    }
   ],
   "source": [
    "for i in range (1, 11):\n",
    "    print(i)"
   ]
  },
  {
   "cell_type": "code",
   "execution_count": 27,
   "metadata": {},
   "outputs": [
    {
     "name": "stdout",
     "output_type": "stream",
     "text": [
      "1\n",
      "4\n",
      "9\n",
      "16\n",
      "25\n",
      "36\n",
      "49\n",
      "64\n",
      "81\n",
      "100\n"
     ]
    }
   ],
   "source": [
    "for i in range (1, 11):\n",
    "    print(i * i)"
   ]
  },
  {
   "cell_type": "code",
   "execution_count": 29,
   "metadata": {},
   "outputs": [
    {
     "name": "stdout",
     "output_type": "stream",
     "text": [
      "Month:  1 Expense: 2340\n",
      "Month:  2 Expense: 2500\n",
      "Month:  3 Expense: 2100\n",
      "Month:  4 Expense: 3100\n",
      "Month:  5 Expense: 2980\n",
      "Total expense is:  13020\n"
     ]
    }
   ],
   "source": [
    "exp = [2340, 2500, 2100, 3100, 2980]\n",
    "total = 0\n",
    "for i in range(len(exp)):\n",
    "    print('Month: ', (i+1), 'Expense:', exp[i])\n",
    "    total += exp[i]\n",
    "print('Total expense is: ', total)"
   ]
  },
  {
   "cell_type": "code",
   "execution_count": 37,
   "metadata": {},
   "outputs": [
    {
     "name": "stdout",
     "output_type": "stream",
     "text": [
      "1\n",
      "9\n",
      "25\n"
     ]
    }
   ],
   "source": [
    "for i in range(1, 6):\n",
    "    if i%2 == 0:\n",
    "        continue\n",
    "    print(i*i)"
   ]
  },
  {
   "cell_type": "markdown",
   "metadata": {},
   "source": [
    "# While loop"
   ]
  },
  {
   "cell_type": "code",
   "execution_count": null,
   "metadata": {},
   "outputs": [],
   "source": [
    "i = 1\n",
    "while i <= 5:\n",
    "    print(i)\n",
    "    i = i + 1"
   ]
  },
  {
   "cell_type": "code",
   "execution_count": null,
   "metadata": {},
   "outputs": [],
   "source": []
  }
 ],
 "metadata": {
  "kernelspec": {
   "display_name": "Python 3",
   "language": "python",
   "name": "python3"
  },
  "language_info": {
   "codemirror_mode": {
    "name": "ipython",
    "version": 3
   },
   "file_extension": ".py",
   "mimetype": "text/x-python",
   "name": "python",
   "nbconvert_exporter": "python",
   "pygments_lexer": "ipython3",
   "version": "3.8.3"
  }
 },
 "nbformat": 4,
 "nbformat_minor": 4
}
